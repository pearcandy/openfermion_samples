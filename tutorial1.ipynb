{
 "cells": [
  {
   "cell_type": "markdown",
   "id": "7a9a45d8",
   "metadata": {},
   "source": [
    "# Introduction to OpenFermion"
   ]
  },
  {
   "cell_type": "markdown",
   "id": "d433d958",
   "metadata": {},
   "source": [
    "### Initializing the FermionOperator data structure"
   ]
  },
  {
   "cell_type": "code",
   "execution_count": 1,
   "id": "82c3cd54",
   "metadata": {},
   "outputs": [
    {
     "name": "stdout",
     "output_type": "stream",
     "text": [
      "1.0 [3^ 1]\n",
      "1.0 [3^ 1]\n"
     ]
    }
   ],
   "source": [
    "from openfermion.ops import FermionOperator\n",
    "\n",
    "my_term = FermionOperator(((3, 1), (1, 0)))\n",
    "print(my_term)\n",
    "\n",
    "my_term = FermionOperator('3^ 1')\n",
    "print(my_term)"
   ]
  },
  {
   "cell_type": "markdown",
   "id": "eab0d0eb",
   "metadata": {},
   "source": [
    "The preferred way to specify the coefficient in openfermion is to provide an optional coefficient argument. If not provided, the coefficient defaults to 1. In the code below, the first method is preferred. The multiplication in the second method actually creates a copy of the term, which introduces some additional cost. All inplace operands (such as +=) modify classes whereas binary operands such as + create copies. Important caveats are that the empty tuple FermionOperator(()) and the empty string FermionOperator('') initializes identity. The empty initializer FermionOperator() initializes the zero operator."
   ]
  },
  {
   "cell_type": "code",
   "execution_count": 2,
   "id": "25d9f71e",
   "metadata": {},
   "outputs": [
    {
     "name": "stdout",
     "output_type": "stream",
     "text": [
      "-1.7 [3^ 1]\n",
      "-1.7 [3^ 1]\n",
      "1.0 []\n",
      "0\n"
     ]
    }
   ],
   "source": [
    "good_way_to_initialize = FermionOperator('3^ 1', -1.7)\n",
    "print(good_way_to_initialize)\n",
    "\n",
    "bad_way_to_initialize = -1.7 * FermionOperator('3^ 1')\n",
    "print(bad_way_to_initialize)\n",
    "\n",
    "identity = FermionOperator('')\n",
    "print(identity)\n",
    "\n",
    "zero_operator = FermionOperator()\n",
    "print(zero_operator)"
   ]
  },
  {
   "cell_type": "code",
   "execution_count": 3,
   "id": "2f9670ea",
   "metadata": {},
   "outputs": [
    {
     "name": "stdout",
     "output_type": "stream",
     "text": [
      "(1+2j) [4^ 1^ 3 9]\n",
      "{((4, 1), (1, 1), (3, 0), (9, 0)): (1+2j)}\n"
     ]
    }
   ],
   "source": [
    "my_operator = FermionOperator('4^ 1^ 3 9', 1. + 2.j)\n",
    "print(my_operator)\n",
    "print(my_operator.terms)"
   ]
  },
  {
   "cell_type": "markdown",
   "id": "82eac88a",
   "metadata": {},
   "source": [
    "### Manipulating the FermionOperator data structure"
   ]
  },
  {
   "cell_type": "code",
   "execution_count": 4,
   "id": "67deb6bb",
   "metadata": {},
   "outputs": [
    {
     "name": "stdout",
     "output_type": "stream",
     "text": [
      "-1.7 [3^ 1] +\n",
      "(1+2j) [4^ 3^ 9 1]\n",
      "\n",
      "-1.7 [3^ 1] +\n",
      "(1+2j) [4^ 3^ 9 1]\n"
     ]
    }
   ],
   "source": [
    "from openfermion.ops import FermionOperator\n",
    "\n",
    "term_1 = FermionOperator('4^ 3^ 9 1', 1. + 2.j)\n",
    "term_2 = FermionOperator('3^ 1', -1.7)\n",
    "my_operator = term_1 + term_2\n",
    "print(my_operator)\n",
    "\n",
    "my_operator = FermionOperator('4^ 3^ 9 1', 1. + 2.j)\n",
    "term_2 = FermionOperator('3^ 1', -1.7)\n",
    "my_operator += term_2\n",
    "print('')\n",
    "print(my_operator)"
   ]
  },
  {
   "cell_type": "code",
   "execution_count": 5,
   "id": "92bbb155",
   "metadata": {},
   "outputs": [
    {
     "name": "stdout",
     "output_type": "stream",
     "text": [
      "56.1 [3^ 1] +\n",
      "(1+2j) [4^ 3^ 9 1]\n",
      "\n",
      "513.9489299999999 [3^ 1 3^ 1 3^ 1] +\n",
      "(-302.32289999999995-604.6457999999999j) [3^ 1 3^ 1 4^ 3^ 9 1] +\n",
      "(-302.32289999999995-604.6457999999999j) [3^ 1 4^ 3^ 9 1 3^ 1] +\n",
      "(-533.511+711.348j) [3^ 1 4^ 3^ 9 1 4^ 3^ 9 1] +\n",
      "(9.161299999999999+18.322599999999998j) [4^ 3^ 9 1 3^ 1 3^ 1] +\n",
      "(16.166999999999998-21.555999999999997j) [4^ 3^ 9 1 3^ 1 4^ 3^ 9 1] +\n",
      "(16.166999999999998-21.555999999999997j) [4^ 3^ 9 1 4^ 3^ 9 1 3^ 1] +\n",
      "(-34.87-6.34j) [4^ 3^ 9 1 4^ 3^ 9 1 4^ 3^ 9 1]\n",
      "\n",
      "-4.912999999999999 [3^ 1 3^ 1 3^ 1]\n",
      "\n",
      "True\n",
      "False\n"
     ]
    }
   ],
   "source": [
    "term_1 = FermionOperator('4^ 3^ 9 1', 1. + 2.j)\n",
    "term_2 = FermionOperator('3^ 1', -1.7)\n",
    "\n",
    "my_operator = term_1 - 33. * term_2\n",
    "print(my_operator)\n",
    "\n",
    "my_operator *= 3.17 * (term_2 + term_1) ** 2\n",
    "print('')\n",
    "print(my_operator)\n",
    "\n",
    "print('')\n",
    "print(term_2 ** 3)\n",
    "\n",
    "print('')\n",
    "print(term_1 == 2.*term_1 - term_1)\n",
    "print(term_1 == my_operator)"
   ]
  },
  {
   "cell_type": "markdown",
   "id": "f2614eb2",
   "metadata": {},
   "source": [
    "Additionally, there are a variety of methods that act on the FermionOperator data structure. We demonstrate a small subset of those methods here."
   ]
  },
  {
   "cell_type": "code",
   "execution_count": 6,
   "id": "69688989",
   "metadata": {},
   "outputs": [
    {
     "name": "stdout",
     "output_type": "stream",
     "text": [
      "(1-2j) [3 3^ 4]\n",
      "False\n",
      "5\n",
      "\n",
      "(1+2j) [4^] +\n",
      "(-1-2j) [4^ 3^ 3]\n",
      "True\n",
      "\n",
      "(-3+4j) [4^ 3 3^ 4^] +\n",
      "(3-4j) [4^ 3 3^ 4^ 3^ 3] +\n",
      "(-3+4j) [4^ 3^ 3 4^ 3 3^] +\n",
      "(3-4j) [4^ 4^ 3 3^]\n"
     ]
    }
   ],
   "source": [
    "from openfermion.utils import commutator, count_qubits, hermitian_conjugated\n",
    "from openfermion.transforms import normal_ordered\n",
    "\n",
    "# Get the Hermitian conjugate of a FermionOperator, count its qubit, check if it is normal-ordered.\n",
    "term_1 = FermionOperator('4^ 3 3^', 1. + 2.j)\n",
    "print(hermitian_conjugated(term_1))\n",
    "print(term_1.is_normal_ordered())\n",
    "print(count_qubits(term_1))\n",
    "\n",
    "# Normal order the term.\n",
    "term_2 = normal_ordered(term_1)\n",
    "print('')\n",
    "print(term_2)\n",
    "print(term_2.is_normal_ordered())\n",
    "\n",
    "# Compute a commutator of the terms.\n",
    "print('')\n",
    "print(commutator(term_1, term_2))"
   ]
  },
  {
   "cell_type": "markdown",
   "id": "da312ec9",
   "metadata": {},
   "source": [
    "### The QubitOperator data structure"
   ]
  },
  {
   "cell_type": "code",
   "execution_count": 7,
   "id": "b9196ed4",
   "metadata": {},
   "outputs": [
    {
     "name": "stdout",
     "output_type": "stream",
     "text": [
      "1.0 [X1 Y2 Z3]\n",
      "{((1, 'X'), (2, 'Y'), (3, 'Z')): 1.0}\n",
      "\n",
      "-77.0 [X1 Y2 Z3] +\n",
      "3.17 [X3 Z4]\n"
     ]
    }
   ],
   "source": [
    "from openfermion.ops import QubitOperator\n",
    "\n",
    "my_first_qubit_operator = QubitOperator('X1 Y2 Z3')\n",
    "print(my_first_qubit_operator)\n",
    "print(my_first_qubit_operator.terms)\n",
    "\n",
    "operator_2 = QubitOperator('X3 Z4', 3.17)\n",
    "operator_2 -= 77. * my_first_qubit_operator\n",
    "print('')\n",
    "print(operator_2)"
   ]
  },
  {
   "cell_type": "code",
   "execution_count": null,
   "id": "4d233ffd",
   "metadata": {},
   "outputs": [],
   "source": []
  }
 ],
 "metadata": {
  "kernelspec": {
   "display_name": "Python 3 (ipykernel)",
   "language": "python",
   "name": "python3"
  },
  "language_info": {
   "codemirror_mode": {
    "name": "ipython",
    "version": 3
   },
   "file_extension": ".py",
   "mimetype": "text/x-python",
   "name": "python",
   "nbconvert_exporter": "python",
   "pygments_lexer": "ipython3",
   "version": "3.8.13"
  }
 },
 "nbformat": 4,
 "nbformat_minor": 5
}
