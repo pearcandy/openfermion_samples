{
 "cells": [
  {
   "cell_type": "markdown",
   "id": "d4a6810e",
   "metadata": {},
   "source": [
    "# Sparse matrices and the Hubbard model"
   ]
  },
  {
   "cell_type": "markdown",
   "id": "0eb698a3",
   "metadata": {},
   "source": [
    "Often, one would like to obtain a sparse matrix representation of an operator which can be analyzed numerically. There is code in both openfermion.transforms and openfermion.utils which facilitates this. The function get_sparse_operator converts either a FermionOperator, a QubitOperator or other more advanced classes such as InteractionOperator to a scipy.sparse.csc matrix. There are numerous functions in openfermion.utils which one can call on the sparse operators such as \"get_gap\", \"get_hartree_fock_state\", \"get_ground_state\", etc. We show this off by computing the ground state energy of the Hubbard model. To do that, we use code from the openfermion.hamiltonians module which constructs lattice models of fermions such as Hubbard models."
   ]
  },
  {
   "cell_type": "code",
   "execution_count": 1,
   "id": "3272dd96",
   "metadata": {},
   "outputs": [],
   "source": [
    "from openfermion.hamiltonians import fermi_hubbard\n",
    "from openfermion.linalg import get_sparse_operator, get_ground_state\n",
    "from openfermion.transforms import jordan_wigner\n",
    "\n",
    "\n",
    "# Set model.\n",
    "x_dimension = 2\n",
    "y_dimension = 2\n",
    "tunneling = 2.\n",
    "coulomb = 1.\n",
    "magnetic_field = 0.5\n",
    "chemical_potential = 0.25\n",
    "periodic = 1\n",
    "spinless = 1"
   ]
  },
  {
   "cell_type": "markdown",
   "id": "cbf739c5",
   "metadata": {},
   "source": [
    "### Get fermion operator."
   ]
  },
  {
   "cell_type": "code",
   "execution_count": 2,
   "id": "db251cdf",
   "metadata": {},
   "outputs": [
    {
     "name": "stdout",
     "output_type": "stream",
     "text": [
      "-0.25 [0^ 0] +\n",
      "1.0 [0^ 0 1^ 1] +\n",
      "1.0 [0^ 0 2^ 2] +\n",
      "-2.0 [0^ 1] +\n",
      "-2.0 [0^ 2] +\n",
      "-2.0 [1^ 0] +\n",
      "-0.25 [1^ 1] +\n",
      "1.0 [1^ 1 3^ 3] +\n",
      "-2.0 [1^ 3] +\n",
      "-2.0 [2^ 0] +\n",
      "-0.25 [2^ 2] +\n",
      "1.0 [2^ 2 3^ 3] +\n",
      "-2.0 [2^ 3] +\n",
      "-2.0 [3^ 1] +\n",
      "-2.0 [3^ 2] +\n",
      "-0.25 [3^ 3]\n"
     ]
    }
   ],
   "source": [
    "hubbard_model = fermi_hubbard(\n",
    "    x_dimension, y_dimension, tunneling, coulomb, chemical_potential,\n",
    "    magnetic_field, periodic, spinless)\n",
    "print(hubbard_model)"
   ]
  },
  {
   "cell_type": "markdown",
   "id": "60be3806",
   "metadata": {},
   "source": [
    "### Get qubit operator under Jordan-Wigner."
   ]
  },
  {
   "cell_type": "code",
   "execution_count": 3,
   "id": "c783149b",
   "metadata": {},
   "outputs": [
    {
     "name": "stdout",
     "output_type": "stream",
     "text": [
      "0.5 [] +\n",
      "-1.0 [X0 X1] +\n",
      "-1.0 [X0 Z1 X2] +\n",
      "-1.0 [Y0 Y1] +\n",
      "-1.0 [Y0 Z1 Y2] +\n",
      "-0.375 [Z0] +\n",
      "0.25 [Z0 Z1] +\n",
      "0.25 [Z0 Z2] +\n",
      "-1.0 [X1 Z2 X3] +\n",
      "-1.0 [Y1 Z2 Y3] +\n",
      "-0.375 [Z1] +\n",
      "0.25 [Z1 Z3] +\n",
      "-1.0 [X2 X3] +\n",
      "-1.0 [Y2 Y3] +\n",
      "-0.375 [Z2] +\n",
      "0.25 [Z2 Z3] +\n",
      "-0.375 [Z3]\n"
     ]
    }
   ],
   "source": [
    "jw_hamiltonian = jordan_wigner(hubbard_model)\n",
    "jw_hamiltonian.compress()\n",
    "print(jw_hamiltonian)"
   ]
  },
  {
   "cell_type": "markdown",
   "id": "fd82c455",
   "metadata": {},
   "source": [
    "### Get scipy.sparse.csc representation."
   ]
  },
  {
   "cell_type": "code",
   "execution_count": 4,
   "id": "bb578172",
   "metadata": {},
   "outputs": [
    {
     "name": "stdout",
     "output_type": "stream",
     "text": [
      "\n",
      "  (1, 1)\t(-0.25+0j)\n",
      "  (2, 1)\t(-2+0j)\n",
      "  (4, 1)\t(-2+0j)\n",
      "  (1, 2)\t(-2+0j)\n",
      "  (2, 2)\t(-0.25+0j)\n",
      "  (8, 2)\t(-2+0j)\n",
      "  (3, 3)\t(0.5+0j)\n",
      "  (6, 3)\t(2+0j)\n",
      "  (9, 3)\t(-2+0j)\n",
      "  (1, 4)\t(-2+0j)\n",
      "  (4, 4)\t(-0.25+0j)\n",
      "  (8, 4)\t(-2+0j)\n",
      "  (5, 5)\t(0.5+0j)\n",
      "  (6, 5)\t(-2+0j)\n",
      "  (9, 5)\t(-2+0j)\n",
      "  (3, 6)\t(2+0j)\n",
      "  (5, 6)\t(-2+0j)\n",
      "  (6, 6)\t(-0.5+0j)\n",
      "  (10, 6)\t(-2+0j)\n",
      "  (12, 6)\t(2+0j)\n",
      "  (7, 7)\t(1.25+0j)\n",
      "  (11, 7)\t(-2+0j)\n",
      "  (13, 7)\t(2+0j)\n",
      "  (2, 8)\t(-2+0j)\n",
      "  (4, 8)\t(-2+0j)\n",
      "  (8, 8)\t(-0.25+0j)\n",
      "  (3, 9)\t(-2+0j)\n",
      "  (5, 9)\t(-2+0j)\n",
      "  (9, 9)\t(-0.5+0j)\n",
      "  (10, 9)\t(-2+0j)\n",
      "  (12, 9)\t(-2+0j)\n",
      "  (6, 10)\t(-2+0j)\n",
      "  (9, 10)\t(-2+0j)\n",
      "  (10, 10)\t(0.5+0j)\n",
      "  (7, 11)\t(-2+0j)\n",
      "  (11, 11)\t(1.25+0j)\n",
      "  (14, 11)\t(2+0j)\n",
      "  (6, 12)\t(2+0j)\n",
      "  (9, 12)\t(-2+0j)\n",
      "  (12, 12)\t(0.5+0j)\n",
      "  (7, 13)\t(2+0j)\n",
      "  (13, 13)\t(1.25+0j)\n",
      "  (14, 13)\t(-2+0j)\n",
      "  (11, 14)\t(2+0j)\n",
      "  (13, 14)\t(-2+0j)\n",
      "  (14, 14)\t(1.25+0j)\n",
      "  (15, 15)\t(3+0j)\n",
      "\n",
      "Energy of the model is -4.250000000000001 in units of T and J.\n"
     ]
    }
   ],
   "source": [
    "sparse_operator = get_sparse_operator(hubbard_model)\n",
    "print('')\n",
    "print(sparse_operator)\n",
    "print('\\nEnergy of the model is {} in units of T and J.'.format(\n",
    "    get_ground_state(sparse_operator)[0]))"
   ]
  },
  {
   "cell_type": "code",
   "execution_count": null,
   "id": "24903ce1",
   "metadata": {},
   "outputs": [],
   "source": []
  }
 ],
 "metadata": {
  "kernelspec": {
   "display_name": "Python 3 (ipykernel)",
   "language": "python",
   "name": "python3"
  },
  "language_info": {
   "codemirror_mode": {
    "name": "ipython",
    "version": 3
   },
   "file_extension": ".py",
   "mimetype": "text/x-python",
   "name": "python",
   "nbconvert_exporter": "python",
   "pygments_lexer": "ipython3",
   "version": "3.8.13"
  }
 },
 "nbformat": 4,
 "nbformat_minor": 5
}
