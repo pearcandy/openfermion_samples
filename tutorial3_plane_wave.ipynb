{
 "cells": [
  {
   "cell_type": "markdown",
   "id": "d4a6810e",
   "metadata": {},
   "source": [
    "# Hamiltonians in the plane wave basis"
   ]
  },
  {
   "cell_type": "markdown",
   "id": "0eb698a3",
   "metadata": {},
   "source": [
    "A user can write plugins to openfermion which allow for the use of, e.g., third-party electronic structure package to compute molecular orbitals, Hamiltonians, energies, reduced density matrices, coupled cluster amplitudes, etc using Gaussian basis sets. We may provide scripts which interface between such packages and openfermion in future but do not discuss them in this tutorial.\n",
    "\n",
    "When using simpler basis sets such as plane waves, these packages are not needed. openfermion comes with code which computes Hamiltonians in the plane wave basis. Note that when using plane waves, one is working with the periodized Coulomb operator, best suited for condensed phase calculations such as studying the electronic structure of a solid. To obtain these Hamiltonians one must choose to study the system without a spin degree of freedom (spinless), one must the specify dimension in which the calculation is performed (n_dimensions, usually 3), one must specify how many plane waves are in each dimension (grid_length) and one must specify the length scale of the plane wave harmonics in each dimension (length_scale) and also the locations and charges of the nuclei. One can generate these models with plane_wave_hamiltonian() found in openfermion.hamiltonians. For simplicity, below we compute the Hamiltonian in the case of zero external charge (corresponding to the uniform electron gas, aka jellium). We also demonstrate that one can transform the plane wave Hamiltonian using a Fourier transform without effecting the spectrum of the operator."
   ]
  },
  {
   "cell_type": "code",
   "execution_count": 1,
   "id": "d63d9892",
   "metadata": {},
   "outputs": [],
   "source": [
    "from openfermion.hamiltonians import jellium_model\n",
    "from openfermion.utils import Grid\n",
    "from openfermion.linalg import eigenspectrum\n",
    "from openfermion.transforms import jordan_wigner, fourier_transform"
   ]
  },
  {
   "cell_type": "code",
   "execution_count": 2,
   "id": "efa33fea",
   "metadata": {},
   "outputs": [],
   "source": [
    "# Let's look at a very small model of jellium in 1D.\n",
    "grid = Grid(dimensions=1, length=3, scale=1.0)\n",
    "spinless = True"
   ]
  },
  {
   "cell_type": "code",
   "execution_count": 5,
   "id": "63da76ea",
   "metadata": {},
   "outputs": [
    {
     "name": "stdout",
     "output_type": "stream",
     "text": [
      "19.50047638754088 [] +\n",
      "-9.71044945799746 [Z0] +\n",
      "-0.07957747154594767 [Z0 Z1] +\n",
      "-0.07957747154594767 [Z0 Z2] +\n",
      "0.15915494309189535 [Z1] +\n",
      "-0.07957747154594767 [Z1 Z2] +\n",
      "-9.71044945799746 [Z2]\n"
     ]
    }
   ],
   "source": [
    "# Get the momentum Hamiltonian.\n",
    "momentum_hamiltonian = jellium_model(grid, spinless)\n",
    "momentum_qubit_operator = jordan_wigner(momentum_hamiltonian)\n",
    "momentum_qubit_operator.compress()\n",
    "print(momentum_qubit_operator)"
   ]
  },
  {
   "cell_type": "code",
   "execution_count": 6,
   "id": "49d21337",
   "metadata": {},
   "outputs": [
    {
     "name": "stdout",
     "output_type": "stream",
     "text": [
      "\n",
      "19.500476387540854 [] +\n",
      "-3.289868133696451 [X0 X1] +\n",
      "-3.289868133696454 [X0 Z1 X2] +\n",
      "-3.289868133696451 [Y0 Y1] +\n",
      "-3.289868133696454 [Y0 Z1 Y2] +\n",
      "-6.420581324301009 [Z0] +\n",
      "-0.07957747154594766 [Z0 Z1] +\n",
      "-0.07957747154594763 [Z0 Z2] +\n",
      "-3.289868133696451 [X1 X2] +\n",
      "-3.289868133696451 [Y1 Y2] +\n",
      "-6.4205813243010095 [Z1] +\n",
      "-0.07957747154594766 [Z1 Z2] +\n",
      "-6.420581324301009 [Z2]\n"
     ]
    }
   ],
   "source": [
    "# Fourier transform the Hamiltonian to the position basis.\n",
    "position_hamiltonian = fourier_transform(momentum_hamiltonian, grid, spinless)\n",
    "position_qubit_operator = jordan_wigner(position_hamiltonian)\n",
    "position_qubit_operator.compress()\n",
    "print('')\n",
    "print (position_qubit_operator)\n"
   ]
  },
  {
   "cell_type": "code",
   "execution_count": 7,
   "id": "f1308e23",
   "metadata": {},
   "outputs": [
    {
     "name": "stdout",
     "output_type": "stream",
     "text": [
      "\n",
      "[2.75474088e-14 2.66175970e-14 2.84217094e-14 7.10542736e-15\n",
      " 2.84217094e-14 2.13162821e-14 1.42108547e-14 7.10542736e-15]\n"
     ]
    }
   ],
   "source": [
    "# Check the spectra to make sure these representations are iso-spectral.\n",
    "spectral_difference = eigenspectrum(momentum_qubit_operator) -  eigenspectrum(position_qubit_operator)\n",
    "print('')\n",
    "print(spectral_difference)"
   ]
  }
 ],
 "metadata": {
  "kernelspec": {
   "display_name": "Python 3 (ipykernel)",
   "language": "python",
   "name": "python3"
  },
  "language_info": {
   "codemirror_mode": {
    "name": "ipython",
    "version": 3
   },
   "file_extension": ".py",
   "mimetype": "text/x-python",
   "name": "python",
   "nbconvert_exporter": "python",
   "pygments_lexer": "ipython3",
   "version": "3.8.13"
  }
 },
 "nbformat": 4,
 "nbformat_minor": 5
}
