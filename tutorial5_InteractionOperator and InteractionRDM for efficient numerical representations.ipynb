{
 "cells": [
  {
   "cell_type": "markdown",
   "id": "d4a6810e",
   "metadata": {},
   "source": [
    "# InteractionOperator and InteractionRDM for efficient numerical representations"
   ]
  },
  {
   "cell_type": "markdown",
   "id": "0eb698a3",
   "metadata": {},
   "source": [
    "Below, we load MolecularData from a saved calculation of LiH. We then obtain an InteractionOperator representation of this system in an active space. We then map that operator to qubits. We then demonstrate that one can rotate the orbital basis of the InteractionOperator using random angles to obtain a totally different operator that is still iso-spectral."
   ]
  },
  {
   "cell_type": "code",
   "execution_count": 1,
   "id": "d63d9892",
   "metadata": {},
   "outputs": [],
   "source": [
    "from openfermion.chem import MolecularData\n",
    "from openfermion.transforms import get_fermion_operator, jordan_wigner\n",
    "from openfermion.linalg import get_ground_state, get_sparse_operator\n",
    "import numpy\n",
    "import scipy\n",
    "import scipy.linalg"
   ]
  },
  {
   "cell_type": "code",
   "execution_count": 2,
   "id": "1a1e4388",
   "metadata": {},
   "outputs": [],
   "source": [
    "# Load saved file for LiH.\n",
    "diatomic_bond_length = 1.45\n",
    "geometry = [('Li', (0., 0., 0.)), ('H', (0., 0., diatomic_bond_length))]\n",
    "basis = 'sto-3g'\n",
    "multiplicity = 1"
   ]
  },
  {
   "cell_type": "code",
   "execution_count": 3,
   "id": "98ce9b06",
   "metadata": {},
   "outputs": [],
   "source": [
    "# Set Hamiltonian parameters.\n",
    "active_space_start = 1\n",
    "active_space_stop = 3"
   ]
  },
  {
   "cell_type": "code",
   "execution_count": 4,
   "id": "204ec85c",
   "metadata": {},
   "outputs": [],
   "source": [
    "# Generate and populate instance of MolecularData.\n",
    "molecule = MolecularData(geometry, basis, multiplicity, description=\"1.45\")\n",
    "molecule.load()\n",
    "\n",
    "# Get the Hamiltonian in an active space.\n",
    "molecular_hamiltonian = molecule.get_molecular_hamiltonian(\n",
    "    occupied_indices=range(active_space_start),\n",
    "    active_indices=range(active_space_start, active_space_stop))"
   ]
  },
  {
   "cell_type": "code",
   "execution_count": 5,
   "id": "216bc88f",
   "metadata": {
    "scrolled": true
   },
   "outputs": [
    {
     "name": "stdout",
     "output_type": "stream",
     "text": [
      "The Jordan-Wigner Hamiltonian in canonical basis follows:\n",
      "-7.49894690201071 [] +\n",
      "-0.0029329964409502266 [X0 X1 Y2 Y3] +\n",
      "0.0029329964409502266 [X0 Y1 Y2 X3] +\n",
      "0.01291078027311749 [X0 Z1 X2] +\n",
      "-0.0013743761078958677 [X0 Z1 X2 Z3] +\n",
      "0.011536413200774975 [X0 X2] +\n",
      "0.0029329964409502266 [Y0 X1 X2 Y3] +\n",
      "-0.0029329964409502266 [Y0 Y1 X2 X3] +\n",
      "0.01291078027311749 [Y0 Z1 Y2] +\n",
      "-0.0013743761078958677 [Y0 Z1 Y2 Z3] +\n",
      "0.011536413200774975 [Y0 Y2] +\n",
      "0.16199475388004184 [Z0] +\n",
      "0.011536413200774975 [Z0 X1 Z2 X3] +\n",
      "0.011536413200774975 [Z0 Y1 Z2 Y3] +\n",
      "0.12444770133137588 [Z0 Z1] +\n",
      "0.054130445793298836 [Z0 Z2] +\n",
      "0.05706344223424907 [Z0 Z3] +\n",
      "0.012910780273117487 [X1 Z2 X3] +\n",
      "-0.0013743761078958677 [X1 X3] +\n",
      "0.012910780273117487 [Y1 Z2 Y3] +\n",
      "-0.0013743761078958677 [Y1 Y3] +\n",
      "0.16199475388004186 [Z1] +\n",
      "0.05706344223424907 [Z1 Z2] +\n",
      "0.054130445793298836 [Z1 Z3] +\n",
      "-0.013243698330265966 [Z2] +\n",
      "0.08479609543670981 [Z2 Z3] +\n",
      "-0.013243698330265952 [Z3]\n"
     ]
    }
   ],
   "source": [
    "# Map operator to fermions and qubits.\n",
    "fermion_hamiltonian = get_fermion_operator(molecular_hamiltonian)\n",
    "qubit_hamiltonian = jordan_wigner(fermion_hamiltonian)\n",
    "qubit_hamiltonian.compress()\n",
    "print('The Jordan-Wigner Hamiltonian in canonical basis follows:\\n{}'.format(qubit_hamiltonian))"
   ]
  },
  {
   "cell_type": "code",
   "execution_count": 8,
   "id": "aa982024",
   "metadata": {},
   "outputs": [
    {
     "name": "stdout",
     "output_type": "stream",
     "text": [
      "Ground state energy before rotation is -7.862773163027975 Hartree.\n",
      "\n"
     ]
    }
   ],
   "source": [
    "# Get sparse operator and ground state energy.\n",
    "sparse_hamiltonian = get_sparse_operator(qubit_hamiltonian)\n",
    "energy, state = get_ground_state(sparse_hamiltonian)\n",
    "print('Ground state energy before rotation is {} Hartree.\\n'.format(energy))"
   ]
  },
  {
   "cell_type": "code",
   "execution_count": 9,
   "id": "5ef2ba5d",
   "metadata": {},
   "outputs": [],
   "source": [
    "# Randomly rotate.\n",
    "n_orbitals = molecular_hamiltonian.n_qubits // 2\n",
    "n_variables = int(n_orbitals * (n_orbitals - 1) / 2)\n",
    "numpy.random.seed(1)\n",
    "random_angles = numpy.pi * (1. - 2. * numpy.random.rand(n_variables))\n",
    "kappa = numpy.zeros((n_orbitals, n_orbitals))\n",
    "index = 0\n",
    "for p in range(n_orbitals):\n",
    "    for q in range(p + 1, n_orbitals):\n",
    "        kappa[p, q] = random_angles[index]\n",
    "        kappa[q, p] = -numpy.conjugate(random_angles[index])\n",
    "        index += 1\n",
    "\n",
    "    # Build the unitary rotation matrix.\n",
    "    difference_matrix = kappa + kappa.transpose()\n",
    "    rotation_matrix = scipy.linalg.expm(kappa)\n",
    "\n",
    "    # Apply the unitary.\n",
    "    molecular_hamiltonian.rotate_basis(rotation_matrix)\n"
   ]
  },
  {
   "cell_type": "code",
   "execution_count": 10,
   "id": "d41acf4c",
   "metadata": {},
   "outputs": [
    {
     "name": "stdout",
     "output_type": "stream",
     "text": [
      "The Jordan-Wigner Hamiltonian in rotated basis follows:\n",
      "-7.498946902010708 [] +\n",
      "-0.02426005446824693 [X0 X1 Y2 Y3] +\n",
      "0.02426005446824693 [X0 Y1 Y2 X3] +\n",
      "-0.08262397170394278 [X0 Z1 X2] +\n",
      "-0.016734989174013625 [X0 Z1 X2 Z3] +\n",
      "-0.005524724636333802 [X0 X2] +\n",
      "0.02426005446824693 [Y0 X1 X2 Y3] +\n",
      "-0.02426005446824693 [Y0 Y1 X2 X3] +\n",
      "-0.08262397170394278 [Y0 Z1 Y2] +\n",
      "-0.016734989174013625 [Y0 Z1 Y2 Z3] +\n",
      "-0.005524724636333802 [Y0 Y2] +\n",
      "0.04248358003893321 [Z0] +\n",
      "-0.0055247246363338024 [Z0 X1 Z2 X3] +\n",
      "-0.0055247246363338024 [Z0 Y1 Z2 Y3] +\n",
      "0.0823812751073221 [Z0 Z1] +\n",
      "0.05413044579329885 [Z0 Z2] +\n",
      "0.07839050026154579 [Z0 Z3] +\n",
      "-0.08262397170394278 [X1 Z2 X3] +\n",
      "-0.016734989174013625 [X1 X3] +\n",
      "-0.08262397170394278 [Y1 Z2 Y3] +\n",
      "-0.016734989174013625 [Y1 Y3] +\n",
      "0.042483580038933204 [Z1] +\n",
      "0.07839050026154579 [Z1 Z2] +\n",
      "0.05413044579329885 [Z1 Z3] +\n",
      "0.10626747551084267 [Z2] +\n",
      "0.08420840560617027 [Z2 Z3] +\n",
      "0.10626747551084267 [Z3]\n",
      "Ground state energy after rotation is -7.862773163027971 Hartree.\n"
     ]
    }
   ],
   "source": [
    "\n",
    "# Get qubit Hamiltonian in rotated basis.\n",
    "qubit_hamiltonian = jordan_wigner(molecular_hamiltonian)\n",
    "qubit_hamiltonian.compress()\n",
    "print('The Jordan-Wigner Hamiltonian in rotated basis follows:\\n{}'.format(qubit_hamiltonian))\n",
    "\n",
    "# Get sparse Hamiltonian and energy in rotated basis.\n",
    "sparse_hamiltonian = get_sparse_operator(qubit_hamiltonian)\n",
    "energy, state = get_ground_state(sparse_hamiltonian)\n",
    "print('Ground state energy after rotation is {} Hartree.'.format(energy))"
   ]
  },
  {
   "cell_type": "code",
   "execution_count": null,
   "id": "269f1eeb",
   "metadata": {},
   "outputs": [],
   "source": []
  }
 ],
 "metadata": {
  "kernelspec": {
   "display_name": "Python 3 (ipykernel)",
   "language": "python",
   "name": "python3"
  },
  "language_info": {
   "codemirror_mode": {
    "name": "ipython",
    "version": 3
   },
   "file_extension": ".py",
   "mimetype": "text/x-python",
   "name": "python",
   "nbconvert_exporter": "python",
   "pygments_lexer": "ipython3",
   "version": "3.8.13"
  }
 },
 "nbformat": 4,
 "nbformat_minor": 5
}
